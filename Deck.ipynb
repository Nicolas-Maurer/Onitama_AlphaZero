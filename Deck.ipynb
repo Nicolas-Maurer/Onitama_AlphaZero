{
 "cells": [
  {
   "cell_type": "code",
   "execution_count": 1,
   "id": "57a81192",
   "metadata": {},
   "outputs": [],
   "source": [
    "import matplotlib.pyplot as plt\n",
    "import numpy as np"
   ]
  },
  {
   "cell_type": "code",
   "execution_count": 16,
   "id": "2541b02a",
   "metadata": {},
   "outputs": [],
   "source": [
    "class Card():\n",
    "    \n",
    "    def __init__(self, name, moves):\n",
    "        self.name = name\n",
    "        self.moves = moves\n",
    "    \n",
    "    def plot(self):\n",
    "        maps = np.zeros((5,5))\n",
    "        maps[2,2] = 2\n",
    "\n",
    "        for move in self.moves:\n",
    "            maps[2 + move[0]][2 + move[1]] += 1  \n",
    "\n",
    "        plt.imshow(maps.T)\n",
    "        plt.title(f\"{self.name}\")\n",
    "        plt.show()"
   ]
  },
  {
   "cell_type": "code",
   "execution_count": 17,
   "id": "2efa12f0",
   "metadata": {},
   "outputs": [],
   "source": [
    "tiger = Card(\"tiger\", [(0, 2), (0, -1)])\n",
    "dragon = Card(\"dragon\", [(1, -1), (-1, -1), (2, 1), (-2, 1)])\n",
    "frog = Card(\"frog\", [(-2, 0), (-1, 1), (1, -1)])\n",
    "rabbit = Card(\"rabbit\", [(-1, -1), (1, 1), (2, 0)])\n",
    "crab = Card(\"crab\", [(2, 0), (-2, 0), (0, 1)])\n",
    "elephant = Card(\"elephant\", [(1, 0), (1, 1), (-1, 0), (-1, 1)])\n",
    "goose = Card(\"goose\", [(-1, 0), (-1, 1), (1, 0), (1, -1)])\n",
    "rooster = Card(\"rooster\",[(-1, -1), (-1, 0), (1, 0), (1, 1)])\n",
    "monkey = Card(\"monkey\", [(1, 1), (-1, -1), (-1, 1), (1, -1)])\n",
    "mantis = Card(\"mantis\", [(0, -1), (-1, 1), (1, 1)])\n",
    "horse = Card(\"horse\", [(0, -1), (-1, 0), (0, 1)])\n",
    "ox = Card(\"ox\", [(0, -1), (1, 0), (0, 1)])\n",
    "crane = Card(\"crane\", [(-1, -1), (1, -1), (0, 1)])\n",
    "boar = Card(\"boar\", [(-1, 0), (0, 1), (1, 0)])\n",
    "eel = Card(\"eel\", [(-1, -1), (-1, 1), (1, 0)])\n",
    "cobra = Card(\"cobra\", [(-1, 0), (1, -1), (1, 1)])"
   ]
  },
  {
   "cell_type": "code",
   "execution_count": 18,
   "id": "bddad5d9",
   "metadata": {},
   "outputs": [],
   "source": [
    "deck = [tiger, dragon, frog, rabbit, crab, elephant, goose, rooster, monkey, mantis, horse, ox, crane, boar, eel, cobra]"
   ]
  }
 ],
 "metadata": {
  "kernelspec": {
   "display_name": "Python 3",
   "language": "python",
   "name": "python3"
  },
  "language_info": {
   "codemirror_mode": {
    "name": "ipython",
    "version": 3
   },
   "file_extension": ".py",
   "mimetype": "text/x-python",
   "name": "python",
   "nbconvert_exporter": "python",
   "pygments_lexer": "ipython3",
   "version": "3.9.5"
  }
 },
 "nbformat": 4,
 "nbformat_minor": 5
}
