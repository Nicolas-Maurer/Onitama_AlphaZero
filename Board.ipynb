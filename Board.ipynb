{
 "cells": [
  {
   "cell_type": "code",
   "execution_count": 1,
   "id": "c5e9aabe",
   "metadata": {},
   "outputs": [],
   "source": [
    "import numpy as np\n",
    "import random\n",
    "import tensorflow as tf\n",
    "from copy import copy, deepcopy"
   ]
  },
  {
   "cell_type": "code",
   "execution_count": 2,
   "id": "6807bb47",
   "metadata": {},
   "outputs": [],
   "source": [
    "class Board():\n",
    "    \n",
    "    def __init__(self, deck):\n",
    "        \n",
    "        self.deck = random.sample(deck, 5) # each game only 5 cards are selected from the deck\n",
    "        self.color = 0 \n",
    "        self.player1_cards = self.deck[:2]\n",
    "        self.player2_cards = self.deck[2:4]\n",
    "        self.remaining_card = self.deck[4]\n",
    "        self.board_size = 5 # 5x5 board    \n",
    "        self.board_2D = np.array([[ 1,  1,  2,  1,  1],\n",
    "                                  [ 0,  0,  0,  0,  0],\n",
    "                                  [ 0,  0,  0,  0,  0],\n",
    "                                  [ 0,  0,  0,  0,  0],\n",
    "                                  [-1, -1, -2, -1, -1]])\n",
    "        self.board_state = self.get_board_state()\n",
    "        self.layer_code = self.get_layer_codes()\n",
    "        self.layer_decode = {k :v for v,k in self.layer_code.items()}\n",
    "        \n",
    "\n",
    "    def get_layer_codes(self):\n",
    "        \n",
    "        layer_code = {}\n",
    "        i = 0\n",
    "        for card in deck:\n",
    "            for move in card.moves:\n",
    "                if move not in layer_code :\n",
    "                    layer_code[move] = i\n",
    "                    i += 1\n",
    "        return layer_code\n",
    "            \n",
    "    def get_board_state(self):\n",
    "        \"\"\" Return the board state, a 5 x 5 x 5 \n",
    "        the first 5x5 represent the board, while the first 4 planes represent the piece and the last one the player.\"\"\"\n",
    "        \n",
    "        board_state = np.zeros((5, 5, 5))\n",
    "            \n",
    "        for k, piece in enumerate([1, 2, -1, -2]):\n",
    "            for i in range(self.board_size):\n",
    "                for j in range(self.board_size):\n",
    "                    if self.board_2D[i][j] == piece:\n",
    "                        board_state[k][i][j] = 1\n",
    "                        \n",
    "        if self.color == 0:\n",
    "            board_state[4] = np.zeros((5, 5))\n",
    "        else:\n",
    "            board_state[4] = np.ones((5, 5))\n",
    "        \n",
    "        return board_state\n",
    "        \n",
    "        \n",
    "    def get_legal_moves(self, policy):\n",
    "        \"\"\"Returns all the legal moves for a policy obtained with the neural network \"\"\"\n",
    "        \n",
    "        # transform to positive output\n",
    "        policy = policy - np.min(policy) + 1e-9 #to avoid div by 0 if all element are equals and negatifs\n",
    "        \n",
    "        possible_policy = np.zeros((5, 5, 13))\n",
    "        if self.color == 0:\n",
    "            player_board2D = self.board_state[0] + self.board_state[1]\n",
    "            player_cards = self.player1_cards\n",
    "        else:\n",
    "            player_board2D = self.board_state[2] + self.board_state[3]\n",
    "            player_cards = self.player2_cards\n",
    "       \n",
    "        # keep only the possible moves, considering the 2 card the player have.\n",
    "        possibles_moves = set()\n",
    "        for card in player_cards:\n",
    "            for move in card.moves:\n",
    "                possibles_moves.add(move)\n",
    "            \n",
    "        for move in possibles_moves:\n",
    "            for i in range(5):\n",
    "                for j in range(5):\n",
    "                    if player_board2D[i][j] != 0 :\n",
    "                        if (0 <= i - move[1] < 5) and (0 <= j + move[0] < 5):\n",
    "                            possible_policy[i - move[1]][j + move[0], self.layer_code[move]] = policy[i - move[1]][j + move[0], self.layer_code[move]]\n",
    "                            \n",
    "        # The illegal moves are the one where there is already an ally piece on the board\n",
    "        # we can perform element wise multiplication for each plane to get the legal moves\n",
    "        for k in range(possible_policy.shape[2]):\n",
    "            possible_policy[:, :, k] = tf.multiply(possible_policy[:, :, k], (1 - player_board2D))\n",
    "            \n",
    "        # Then we normalize to [0, 1]\n",
    "        possible_policy = possible_policy / np.sum(possible_policy)\n",
    "        return possible_policy\n",
    "\n",
    "    \n",
    "    def best_move(self, policy):\n",
    "        \"\"\" Return the line, column and depth of the best_move from the policy \"\"\"\n",
    "        layer_of_move = np.argmax(policy)%13\n",
    "        column_of_move, line_of_move  = np.argmax(policy[:, :, layer_of_move])%5, np.argmax(policy[:, :, layer_of_move])//5\n",
    "        return line_of_move, column_of_move, layer_of_move\n",
    "   \n",
    "\n",
    "    def move(self, policy): # COPY EVERYTHING TO CREATE AN NEW STATE \n",
    "        \"\"\"Return the next state of the game, choosing a random move from the policy\"\"\"\n",
    "       \n",
    "        legals_moves = self.get_legal_moves(policy)\n",
    "        legals_moves_flat = legals_moves.flatten() \n",
    "        \n",
    "        # pick a move according to their probability\n",
    "        rd_number = np.random.rand()\n",
    "        move_choosed = next(x[0] for x in enumerate(np.cumsum(legals_moves_flat)) if x[1] > rd_number)\n",
    "\n",
    "        plane = move_choosed % 13\n",
    "        column = move_choosed // 13 % 5\n",
    "        line = move_choosed // 13 // 5\n",
    "\n",
    "        piece_to_move = (line + self.layer_decode[plane][1], column - self.layer_decode[plane][0])\n",
    "        \n",
    "        # create the next state\n",
    "        cls = self.__class__\n",
    "        next_state = cls.__new__(cls)\n",
    "        next_state.board_size = self.board_size\n",
    "        next_state.layer_code = self.layer_code\n",
    "        next_state.layer_decode = self.layer_decode\n",
    "        \n",
    "        \n",
    "        # move the piece\n",
    "        next_state.board_2D = self.board_2D.copy()\n",
    "        next_state.board_2D[line, column] = self.board_2D[piece_to_move]\n",
    "        next_state.board_2D[piece_to_move] = 0 \n",
    "        #print(next_state.board_2D)\n",
    "        plt.imshow(next_state.board_2D)\n",
    "        plt.show()\n",
    "        \n",
    "                \n",
    "        # How to know which card the policy choose to move when both can play the move ??\n",
    "        if self.color == 0:\n",
    "            if (line, column) in self.player1_cards[0].moves:\n",
    "                print(f\"player {self.color} plays {self.player1_cards[0].name}\")\n",
    "                next_state.player1_cards = [self.player1_cards[1], self.remaining_card]\n",
    "                next_state.remaining_card = self.player1_cards[0]\n",
    "            else:\n",
    "                print(f\"player {self.color} plays {self.player1_cards[1].name}\")\n",
    "                next_state.player1_cards = [self.player1_cards[0], self.remaining_card]\n",
    "                next_state.remaining_card = self.player1_cards[1]\n",
    "            \n",
    "            next_state.color = 1\n",
    "            next_state.player2_cards = self.player2_cards\n",
    "            next_state.board_state = next_state.get_board_state()\n",
    "            \n",
    "        else:\n",
    "            if (line, column) in self.player2_cards[0].moves:\n",
    "                print(f\"player {self.color} plays {self.player2_cards[0].name}\")\n",
    "                next_state.player2_cards = [self.player2_cards[1], self.remaining_card]\n",
    "                next_state.remaining_card = self.player2_cards[0]\n",
    "            else:\n",
    "                print(f\"player {self.color} plays {self.player2_cards[1].name}\")\n",
    "                next_state.player2_cards = [self.player2_cards[0], self.remaining_card]\n",
    "                next_state.remaining_card = self.player2_cards[1]\n",
    "                \n",
    "            next_state.color = 0\n",
    "            next_state.player1_cards = self.player1_cards\n",
    "            next_state.board_state = next_state.get_board_state()\n",
    "            \n",
    "\n",
    "        \n",
    "        return next_state\n",
    "        \n",
    "    def is_win(self):\n",
    "        \"\"\"Check whether the given player has win\"\"\"\n",
    "        \n",
    "        # Player1 win if -2 is dead, or if 2 managed to reach the center of the last line\n",
    "        if self.color == 0:\n",
    "            \n",
    "            if self.board_2D[4][2] == 2:\n",
    "                return True\n",
    "            \n",
    "            for i in range(self.board_size):\n",
    "                for j in range(self.board_size):\n",
    "                    if self.board_2D[i][j] == -2:\n",
    "                        return False\n",
    "            return True\n",
    "        \n",
    "        # Player2 (-1) win if 2 is dead, or if -2 managed to reach the center of the first line\n",
    "        else:\n",
    "            if self.board_2D[0][2] == -2:\n",
    "                return True\n",
    "            \n",
    "            for i in range(self.board_size):\n",
    "                for j in range(self.board_size):\n",
    "                    if self.board_2D[i][j] == 2:\n",
    "                        return False\n",
    "            return True"
   ]
  },
  {
   "cell_type": "code",
   "execution_count": 3,
   "id": "2ce14279",
   "metadata": {},
   "outputs": [],
   "source": [
    "%run deck.ipynb"
   ]
  },
  {
   "cell_type": "markdown",
   "id": "f24b31c2",
   "metadata": {},
   "source": [
    "# All possible moves can also be write like this"
   ]
  },
  {
   "cell_type": "code",
   "execution_count": 4,
   "id": "965645a5",
   "metadata": {},
   "outputs": [],
   "source": [
    "policy = np.array([[[-1.735265  ,  0.895523  ,  0.59361506,  1.0263171 ,\n",
    "         -0.20846957,  0.7756048 ,  0.40485412,  0.97747225,\n",
    "          0.68249375,  0.57233644,  2.3300338 , -2.142794  ,\n",
    "         -1.2536675 ],\n",
    "        [-2.1350448 ,  1.0824367 ,  1.1712768 ,  0.17973511,\n",
    "         -0.88132775,  0.96399856, -0.28737873,  1.3039621 ,\n",
    "          1.0800291 ,  0.66894037,  2.6654224 , -1.9559932 ,\n",
    "         -1.8920324 ],\n",
    "        [-2.5652118 ,  0.5961885 ,  0.51739126,  0.42160386,\n",
    "         -1.510311  ,  0.80724806, -0.22764167,  0.9705494 ,\n",
    "          0.9037363 ,  0.6993448 ,  2.3282716 , -2.0989501 ,\n",
    "         -1.2895721 ],\n",
    "        [-1.729537  ,  0.39474577,  0.10067484, -0.20977099,\n",
    "         -1.2353518 ,  0.96701944, -0.03876399,  0.37664956,\n",
    "          0.7848823 ,  0.6496575 ,  1.9535583 , -1.8148828 ,\n",
    "         -0.37839997],\n",
    "        [-0.4778651 , -0.02732395, -0.12532228, -0.20479588,\n",
    "         -0.7186637 ,  1.5131503 , -0.07658803,  0.1728932 ,\n",
    "          0.3304994 ,  0.27519494,  1.535103  , -1.2615688 ,\n",
    "         -1.0383416 ]],\n",
    "\n",
    "       [[-1.2044187 ,  1.5173601 ,  0.17377652,  1.7125804 ,\n",
    "         -0.4450755 ,  0.5197472 ,  1.0401356 ,  1.9764196 ,\n",
    "          1.1730003 ,  0.23306835,  2.3564382 , -2.4363658 ,\n",
    "         -1.1051182 ],\n",
    "        [-1.5722438 ,  1.4207927 ,  0.87068635,  1.1501204 ,\n",
    "         -1.6132754 ,  0.77854073,  0.6089021 ,  2.090783  ,\n",
    "          1.2339022 ,  0.8591335 ,  2.8308105 , -2.5637982 ,\n",
    "         -0.9337666 ],\n",
    "        [-2.2220924 ,  0.5122277 ,  0.30295843,  1.2258587 ,\n",
    "         -1.6783967 ,  1.3191489 , -0.2820957 ,  2.3265436 ,\n",
    "          1.4708776 ,  1.308793  ,  3.2035522 , -3.3996153 ,\n",
    "         -0.23855394],\n",
    "        [-1.4055172 ,  0.3403263 , -0.21282104,  0.3200004 ,\n",
    "         -1.421893  ,  1.5371962 ,  0.15715402,  1.6738615 ,\n",
    "          0.3288096 ,  0.91035753,  3.004557  , -3.2808847 ,\n",
    "         -0.01260414],\n",
    "        [-1.0999404 , -0.171983  , -0.7153856 ,  0.36710212,\n",
    "         -0.49327946,  1.9406954 ,  0.31700274,  0.7717333 ,\n",
    "          0.44255492,  0.8349869 ,  2.495781  , -2.0971103 ,\n",
    "         -0.8395826 ]],\n",
    "\n",
    "       [[-1.3959138 ,  1.7066331 ,  0.33870134,  1.5853907 ,\n",
    "         -0.4774654 ,  0.7284374 ,  1.1697007 ,  1.6875151 ,\n",
    "          1.0136113 ,  0.45827156,  2.4586306 , -2.5918183 ,\n",
    "         -0.6729206 ],\n",
    "        [-2.3180752 ,  1.3677644 ,  1.0184892 ,  0.87148285,\n",
    "         -0.84027296,  1.1818271 ,  0.59890866,  1.6115003 ,\n",
    "          0.936278  ,  1.7600887 ,  2.8103433 , -2.2292383 ,\n",
    "         -0.49315795],\n",
    "        [-1.4970053 ,  1.2460198 ,  1.2289972 ,  0.3001649 ,\n",
    "         -1.45592   ,  1.622478  , -0.2726383 ,  1.6756793 ,\n",
    "          1.0784192 ,  2.6789258 ,  2.74037   , -2.262355  ,\n",
    "         -0.92322206],\n",
    "        [-1.7936515 ,  0.2562406 ,  0.6522195 , -0.2702317 ,\n",
    "         -0.7976925 ,  2.2944055 ,  0.08802073,  1.6727034 ,\n",
    "          0.3819916 ,  1.8754762 ,  2.3527915 , -2.2884538 ,\n",
    "         -0.47622746],\n",
    "        [-1.4533944 , -0.03863365, -0.45907027,  0.17744537,\n",
    "         -0.99434423,  2.095366  ,  0.36225647,  0.81955165,\n",
    "          0.11993909,  0.67588735,  2.3440387 , -1.8735744 ,\n",
    "         -1.5150275 ]],\n",
    "\n",
    "       [[-0.7998885 ,  1.1469947 , -0.16850503,  0.5078943 ,\n",
    "          0.21532789,  0.51677155,  1.0017234 ,  1.617289  ,\n",
    "          0.00562511,  0.31002346,  2.4018052 , -1.8607788 ,\n",
    "         -0.9388392 ],\n",
    "        [-1.176696  ,  1.2710723 ,  0.94564635,  0.69444215,\n",
    "         -0.2886619 ,  0.37026104,  0.48532337,  1.7740414 ,\n",
    "          0.58328325,  1.2983268 ,  2.8191853 , -2.654196  ,\n",
    "         -0.7222117 ],\n",
    "        [-1.5188608 ,  1.490246  ,  0.7489829 ,  0.11404646,\n",
    "         -0.19062093,  0.7722108 ,  0.26624447,  1.7526183 ,\n",
    "          1.1006991 ,  1.6470962 ,  1.8924383 , -2.0137045 ,\n",
    "         -0.7587436 ],\n",
    "        [-0.81736386,  0.91716087,  0.47386977, -0.65306604,\n",
    "         -0.53896797,  1.5467387 , -0.05121018,  1.8322847 ,\n",
    "          0.87655145,  0.8277034 ,  2.4480512 , -1.4128221 ,\n",
    "         -1.940846  ],\n",
    "        [-0.9924667 ,  0.2907342 ,  0.3855592 ,  0.14764887,\n",
    "         -0.09061775,  1.9173393 , -0.03190663,  0.9173266 ,\n",
    "          1.0581183 ,  0.61302084,  1.7609252 , -1.3628429 ,\n",
    "         -1.3362224 ]],\n",
    "\n",
    "       [[-0.49880382,  1.0231727 ,  0.03118469,  0.16903342,\n",
    "          0.5168493 ,  0.6235326 ,  0.3792284 ,  1.0352683 ,\n",
    "          0.45166346,  0.47922984,  1.665102  , -1.0803995 ,\n",
    "         -0.60594076],\n",
    "        [-1.1376126 ,  0.7552708 , -0.12509963, -0.04145582,\n",
    "          0.38845628,  0.18112755,  0.35277784,  1.0091848 ,\n",
    "          0.26460436,  0.72396874,  2.2040572 , -1.478114  ,\n",
    "         -0.2235856 ],\n",
    "        [-1.1667005 ,  0.9920146 ,  0.5132676 , -0.18239355,\n",
    "          0.32211372,  0.5289451 ,  0.02510563,  1.3518541 ,\n",
    "          1.0328298 ,  0.8811133 ,  1.597292  , -1.3711921 ,\n",
    "         -0.5126038 ],\n",
    "        [-0.7409818 ,  0.9357741 ,  0.5644555 , -0.7696601 ,\n",
    "          0.12284104,  1.2412254 ,  0.24130116,  1.1730565 ,\n",
    "          0.8036288 ,  0.13829781,  1.2240009 , -1.0510432 ,\n",
    "         -1.2348343 ],\n",
    "        [-0.7880498 ,  0.23429339,  0.30323696, -0.55572975,\n",
    "         -0.07165006,  1.1678572 ,  0.2606472 ,  1.0826769 ,\n",
    "          0.90434545, -0.28519067,  1.165994  , -1.1455201 ,\n",
    "         -1.2061161 ]]], dtype=\"float32\")"
   ]
  },
  {
   "cell_type": "code",
   "execution_count": 9,
   "id": "44cdf325",
   "metadata": {
    "scrolled": true
   },
   "outputs": [],
   "source": [
    "root = Board(deck)"
   ]
  },
  {
   "cell_type": "code",
   "execution_count": 10,
   "id": "22067d4c",
   "metadata": {
    "scrolled": false
   },
   "outputs": [
    {
     "data": {
      "image/png": "[encoded data removed]",
      "text/plain": [
       "<Figure size 432x288 with 1 Axes>"
      ]
     },
     "metadata": {
      "needs_background": "light"
     },
     "output_type": "display_data"
    },
    {
     "name": "stdout",
     "output_type": "stream",
     "text": [
      "player 0 plays frog\n",
      "False\n"
     ]
    },
    {
     "data": {
      "image/png": "[encoded data removed]",
      "text/plain": [
       "<Figure size 432x288 with 1 Axes>"
      ]
     },
     "metadata": {
      "needs_background": "light"
     },
     "output_type": "display_data"
    },
    {
     "name": "stdout",
     "output_type": "stream",
     "text": [
      "player 1 plays mantis\n",
      "False\n"
     ]
    },
    {
     "data": {
      "image/png": "[encoded data removed]",
      "text/plain": [
       "<Figure size 432x288 with 1 Axes>"
      ]
     },
     "metadata": {
      "needs_background": "light"
     },
     "output_type": "display_data"
    },
    {
     "name": "stdout",
     "output_type": "stream",
     "text": [
      "player 0 plays crab\n",
      "False\n"
     ]
    },
    {
     "data": {
      "image/png": "[encoded data removed]",
      "text/plain": [
       "<Figure size 432x288 with 1 Axes>"
      ]
     },
     "metadata": {
      "needs_background": "light"
     },
     "output_type": "display_data"
    },
    {
     "name": "stdout",
     "output_type": "stream",
     "text": [
      "player 1 plays frog\n",
      "False\n"
     ]
    },
    {
     "data": {
      "image/png": "[encoded data removed]",
      "text/plain": [
       "<Figure size 432x288 with 1 Axes>"
      ]
     },
     "metadata": {
      "needs_background": "light"
     },
     "output_type": "display_data"
    },
    {
     "name": "stdout",
     "output_type": "stream",
     "text": [
      "player 0 plays mantis\n",
      "False\n"
     ]
    },
    {
     "data": {
      "image/png": "[encoded data removed]",
      "text/plain": [
       "<Figure size 432x288 with 1 Axes>"
      ]
     },
     "metadata": {
      "needs_background": "light"
     },
     "output_type": "display_data"
    },
    {
     "name": "stdout",
     "output_type": "stream",
     "text": [
      "player 1 plays crab\n",
      "False\n"
     ]
    },
    {
     "data": {
      "image/png": "[encoded data removed]",
      "text/plain": [
       "<Figure size 432x288 with 1 Axes>"
      ]
     },
     "metadata": {
      "needs_background": "light"
     },
     "output_type": "display_data"
    },
    {
     "name": "stdout",
     "output_type": "stream",
     "text": [
      "player 0 plays frog\n",
      "False\n"
     ]
    },
    {
     "data": {
      "image/png": "[encoded data removed]",
      "text/plain": [
       "<Figure size 432x288 with 1 Axes>"
      ]
     },
     "metadata": {
      "needs_background": "light"
     },
     "output_type": "display_data"
    },
    {
     "name": "stdout",
     "output_type": "stream",
     "text": [
      "player 1 plays mantis\n",
      "False\n"
     ]
    },
    {
     "data": {
      "image/png": "[encoded data removed]",
      "text/plain": [
       "<Figure size 432x288 with 1 Axes>"
      ]
     },
     "metadata": {
      "needs_background": "light"
     },
     "output_type": "display_data"
    },
    {
     "name": "stdout",
     "output_type": "stream",
     "text": [
      "player 0 plays crab\n",
      "False\n"
     ]
    },
    {
     "data": {
      "image/png": "[encoded data removed]",
      "text/plain": [
       "<Figure size 432x288 with 1 Axes>"
      ]
     },
     "metadata": {
      "needs_background": "light"
     },
     "output_type": "display_data"
    },
    {
     "name": "stdout",
     "output_type": "stream",
     "text": [
      "player 1 plays frog\n",
      "False\n"
     ]
    },
    {
     "data": {
      "image/png": "[encoded data removed]",
      "text/plain": [
       "<Figure size 432x288 with 1 Axes>"
      ]
     },
     "metadata": {
      "needs_background": "light"
     },
     "output_type": "display_data"
    },
    {
     "name": "stdout",
     "output_type": "stream",
     "text": [
      "player 0 plays mantis\n",
      "False\n"
     ]
    },
    {
     "data": {
      "image/png": "[encoded data removed]",
      "text/plain": [
       "<Figure size 432x288 with 1 Axes>"
      ]
     },
     "metadata": {
      "needs_background": "light"
     },
     "output_type": "display_data"
    },
    {
     "name": "stdout",
     "output_type": "stream",
     "text": [
      "player 1 plays crab\n",
      "False\n"
     ]
    },
    {
     "data": {
      "image/png": "[encoded data removed]",
      "text/plain": [
       "<Figure size 432x288 with 1 Axes>"
      ]
     },
     "metadata": {
      "needs_background": "light"
     },
     "output_type": "display_data"
    },
    {
     "name": "stdout",
     "output_type": "stream",
     "text": [
      "player 0 plays frog\n",
      "False\n"
     ]
    },
    {
     "data": {
      "image/png": "[encoded data removed]",
      "text/plain": [
       "<Figure size 432x288 with 1 Axes>"
      ]
     },
     "metadata": {
      "needs_background": "light"
     },
     "output_type": "display_data"
    },
    {
     "name": "stdout",
     "output_type": "stream",
     "text": [
      "player 1 plays mantis\n",
      "False\n"
     ]
    },
    {
     "data": {
      "image/png": "[encoded data removed]",
      "text/plain": [
       "<Figure size 432x288 with 1 Axes>"
      ]
     },
     "metadata": {
      "needs_background": "light"
     },
     "output_type": "display_data"
    },
    {
     "name": "stdout",
     "output_type": "stream",
     "text": [
      "player 0 plays crab\n",
      "False\n"
     ]
    },
    {
     "data": {
      "image/png": "[encoded data removed]",
      "text/plain": [
       "<Figure size 432x288 with 1 Axes>"
      ]
     },
     "metadata": {
      "needs_background": "light"
     },
     "output_type": "display_data"
    },
    {
     "name": "stdout",
     "output_type": "stream",
     "text": [
      "player 1 plays frog\n",
      "False\n"
     ]
    },
    {
     "data": {
      "image/png": "[encoded data removed]",
      "text/plain": [
       "<Figure size 432x288 with 1 Axes>"
      ]
     },
     "metadata": {
      "needs_background": "light"
     },
     "output_type": "display_data"
    },
    {
     "name": "stdout",
     "output_type": "stream",
     "text": [
      "player 0 plays mantis\n",
      "False\n"
     ]
    },
    {
     "data": {
      "image/png": "[encoded data removed]",
      "text/plain": [
       "<Figure size 432x288 with 1 Axes>"
      ]
     },
     "metadata": {
      "needs_background": "light"
     },
     "output_type": "display_data"
    },
    {
     "name": "stdout",
     "output_type": "stream",
     "text": [
      "player 1 plays eel\n",
      "False\n"
     ]
    },
    {
     "data": {
      "image/png": "[encoded data removed]",
      "text/plain": [
       "<Figure size 432x288 with 1 Axes>"
      ]
     },
     "metadata": {
      "needs_background": "light"
     },
     "output_type": "display_data"
    },
    {
     "name": "stdout",
     "output_type": "stream",
     "text": [
      "player 0 plays frog\n",
      "False\n"
     ]
    },
    {
     "data": {
      "image/png": "[encoded data removed]",
      "text/plain": [
       "<Figure size 432x288 with 1 Axes>"
      ]
     },
     "metadata": {
      "needs_background": "light"
     },
     "output_type": "display_data"
    },
    {
     "name": "stdout",
     "output_type": "stream",
     "text": [
      "player 1 plays crab\n",
      "False\n"
     ]
    }
   ],
   "source": [
    "for i in range(20):\n",
    "    root = root.move(policy)\n",
    "    print(root.is_win())"
   ]
  },
  {
   "cell_type": "code",
   "execution_count": null,
   "id": "18708c02",
   "metadata": {},
   "outputs": [],
   "source": []
  },
  {
   "cell_type": "code",
   "execution_count": null,
   "id": "917730b0",
   "metadata": {},
   "outputs": [],
   "source": []
  }
 ],
 "metadata": {
  "kernelspec": {
   "display_name": "Python 3",
   "language": "python",
   "name": "python3"
  },
  "language_info": {
   "codemirror_mode": {
    "name": "ipython",
    "version": 3
   },
   "file_extension": ".py",
   "mimetype": "text/x-python",
   "name": "python",
   "nbconvert_exporter": "python",
   "pygments_lexer": "ipython3",
   "version": "3.9.5"
  }
 },
 "nbformat": 4,
 "nbformat_minor": 5
}
