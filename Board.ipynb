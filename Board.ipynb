{
 "cells": [
  {
   "cell_type": "code",
   "execution_count": 14,
   "id": "c5e9aabe",
   "metadata": {},
   "outputs": [],
   "source": [
    "import numpy as np\n",
    "import random"
   ]
  },
  {
   "cell_type": "code",
   "execution_count": 59,
   "id": "6807bb47",
   "metadata": {},
   "outputs": [],
   "source": [
    "class Board():\n",
    "    \n",
    "    def __init__(self, deck):\n",
    "        \n",
    "        self.deck = random.sample(deck, 5)\n",
    "        self.player1_cards = self.deck[:2]\n",
    "        self.player2_cards = self.deck[2:4]\n",
    "        self.remaining_card = self.deck[4]\n",
    "        self.board_size = 5 # 5x5 board \n",
    "        self.board_state = np.array([[ 1,  1,  2,  1,  1],\n",
    "                                     [ 0,  0,  0,  0,  0],\n",
    "                                     [ 0,  0,  0,  0,  0],\n",
    "                                     [ 0,  0,  0,  0,  0],\n",
    "                                     [-1, -1, -2, -1, -1]])\n",
    "        \n",
    "        \n",
    "    def get_legal_moves(self, player):\n",
    "        \"\"\"Returns all the legal moves for the given player \"\"\"\n",
    "        moves = set()  # stores the legal moves.\n",
    "\n",
    "        if player == 1:\n",
    "            pass\n",
    "        \n",
    "        else : \n",
    "            pass\n",
    "\n",
    "    \n",
    "    def is_win(self, player):\n",
    "        \"\"\"Check whether the given player has win\"\"\"\n",
    "        \n",
    "        # Player1 win if -2 is dead, or if 2 managed to reach the center of the last line\n",
    "        if player == 1:\n",
    "            \n",
    "            if self.board_state[4][2] == 2:\n",
    "                return True\n",
    "            \n",
    "            for i in range(self.board_size):\n",
    "                for j in range(self.board_size):\n",
    "                    if self.board_state[i][j] == -2:\n",
    "                        return False\n",
    "            return True\n",
    "        \n",
    "        # Player2 (-1) win if 2 is dead, or if -2 managed to reach the center of the first line\n",
    "        else:\n",
    "            if self.board_state[0][2] == -2:\n",
    "                return True\n",
    "            \n",
    "            for i in range(self.board_size):\n",
    "                for j in range(self.board_size):\n",
    "                    if self.board_state[i][j] == 2:\n",
    "                        return False\n",
    "            return True\n",
    "        \n",
    "\n",
    "    def execute_move(self, move, color):\n",
    "        \"\"\"Perform the given move on the board\"\"\"\n",
    "\n",
    "        pass"
   ]
  }
 ],
 "metadata": {
  "kernelspec": {
   "display_name": "Python 3",
   "language": "python",
   "name": "python3"
  },
  "language_info": {
   "codemirror_mode": {
    "name": "ipython",
    "version": 3
   },
   "file_extension": ".py",
   "mimetype": "text/x-python",
   "name": "python",
   "nbconvert_exporter": "python",
   "pygments_lexer": "ipython3",
   "version": "3.9.5"
  }
 },
 "nbformat": 4,
 "nbformat_minor": 5
}
