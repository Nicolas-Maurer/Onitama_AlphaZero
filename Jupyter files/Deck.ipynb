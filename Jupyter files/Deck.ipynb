{
 "cells": [
  {
   "cell_type": "code",
   "execution_count": 28,
   "id": "57a81192",
   "metadata": {},
   "outputs": [],
   "source": [
    "import matplotlib.pyplot as plt\n",
    "import numpy as np"
   ]
  },
  {
   "cell_type": "code",
   "execution_count": 29,
   "id": "2541b02a",
   "metadata": {},
   "outputs": [],
   "source": [
    "class Card():\n",
    "    \n",
    "    def __init__(self, name, moves):\n",
    "        self.name = name\n",
    "        self.moves = moves\n",
    "        self.map = self.maps()\n",
    "        \n",
    "    def maps(self):\n",
    "        maps = np.zeros((5,5))\n",
    "        # maps[2,2] = 2\n",
    "\n",
    "        for move in self.moves:\n",
    "            maps[2 + move[0]][2 + move[1]] += 1  \n",
    "        return maps\n",
    "        \n",
    "    def plot(self):\n",
    "        plt.imshow(self.map)\n",
    "        plt.title(f\"{self.name}\")\n",
    "        plt.show()"
   ]
  },
  {
   "cell_type": "code",
   "execution_count": 42,
   "id": "a0a42632",
   "metadata": {},
   "outputs": [],
   "source": [
    "tiger = Card(\"tiger\", [(-2, 0), (1, 0)])\n",
    "dragon = Card(\"dragon\", [(1, 1), (1, -1), (-1, 2), (-1, -2)])\n",
    "frog = Card(\"frog\", [(0, -2), (-1, -1), (1, 1)])\n",
    "rabbit = Card(\"rabbit\", [(1, -1), (-1, 1), (0, 2)])\n",
    "crab = Card(\"crab\", [(0, 2), (0, -2), (-1, 0)])\n",
    "elephant = Card(\"elephant\", [(0, 1), (-1, 1), (0, -1), (-1, -1)])\n",
    "goose = Card(\"goose\", [(0, -1), (-1, -1), (0, 1), (1, 1)])\n",
    "rooster = Card(\"rooster\",[(1, -1), (0, -1), (0, 1), (-1, 1)])\n",
    "monkey = Card(\"monkey\", [(-1, 1), (1, -1), (-1, -1), (1, 1)])\n",
    "mantis = Card(\"mantis\", [(1, 0), (-1, -1), (-1, 1)])\n",
    "horse = Card(\"horse\", [(1, 0), (0, -1), (-1, 0)])\n",
    "ox = Card(\"ox\", [(1, 0), (0, 1), (-1, 0)])\n",
    "crane = Card(\"crane\", [(1, -1), (1, 1), (-1, 0)])\n",
    "boar = Card(\"boar\", [(0, -1), (-1, 0), (0, 1)])\n",
    "eel = Card(\"eel\", [(1, -1), (-1, -1), (0, 1)])\n",
    "cobra = Card(\"cobra\", [(0, -1), (1, 1), (-1, 1)])"
   ]
  },
  {
   "cell_type": "code",
   "execution_count": 43,
   "id": "bddad5d9",
   "metadata": {},
   "outputs": [],
   "source": [
    "deck = [tiger, dragon, frog, rabbit, crab, elephant, goose, rooster, monkey, mantis, horse, ox, crane, boar, eel, cobra]"
   ]
  }
 ],
 "metadata": {
  "kernelspec": {
   "display_name": "Python 3",
   "language": "python",
   "name": "python3"
  },
  "language_info": {
   "codemirror_mode": {
    "name": "ipython",
    "version": 3
   },
   "file_extension": ".py",
   "mimetype": "text/x-python",
   "name": "python",
   "nbconvert_exporter": "python",
   "pygments_lexer": "ipython3",
   "version": "3.9.5"
  }
 },
 "nbformat": 4,
 "nbformat_minor": 5
}
