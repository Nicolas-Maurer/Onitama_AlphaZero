{
 "cells": [
  {
   "cell_type": "markdown",
   "id": "4eba4a14",
   "metadata": {},
   "source": [
    "#### Source for the architecture\n",
    "\n",
    "https://arxiv.org/pdf/1712.01815.pdf\n",
    "\n",
    "https://www.chessprogramming.org/AlphaZero#:~:text=AlphaZero%20evaluates%20positions%20using%20non,policy)%20and%20a%20position%20evaluation.\n",
    "\n",
    "http://www.talkchess.com/forum3/viewtopic.php?f=2&t=69175&start=93\n",
    "\n",
    "residual block : https://www.chessprogramming.org/Neural_Networks#Residual"
   ]
  },
  {
   "cell_type": "markdown",
   "id": "fe86238f",
   "metadata": {},
   "source": [
    "# Input size : 5 x 5 x 5\n",
    "- board size : 5 x 5 \n",
    "- P1 unique pieces : 2 \n",
    "- P2 unique pieces : 2\n",
    "- Colour"
   ]
  },
  {
   "cell_type": "markdown",
   "id": "8d89f242",
   "metadata": {},
   "source": [
    "# Output size 5 x 5 x 13\n",
    "- board size : 5 x 5 \n",
    "- 13 possibles moves, 1 for each directions in [\"N\", \"NE\", \"E\", \"SE\", \"S\", \"SW\", \"W\", \"NW\"], plus the dragon, crab and tiger differents moves  \n",
    "\n",
    "So a total of 5x5x13 = 325 moves"
   ]
  },
  {
   "cell_type": "code",
   "execution_count": 1,
   "id": "53f9aaec",
   "metadata": {},
   "outputs": [],
   "source": [
    "import numpy as np"
   ]
  },
  {
   "cell_type": "markdown",
   "id": "fad78fbb",
   "metadata": {},
   "source": [
    "### Layer codes"
   ]
  },
  {
   "cell_type": "code",
   "execution_count": 2,
   "id": "6f4bf050",
   "metadata": {},
   "outputs": [],
   "source": [
    "codes, i = {}, 0 \n",
    "for nSquares in range(1,2):\n",
    "    for direction in [\"N\", \"NE\", \"E\", \"SE\", \"S\", \"SW\", \"W\", \"NW\"]:\n",
    "        codes[(nSquares, direction)] = i\n",
    "        i += 1\n",
    "        \n",
    "for direction in [\"E\", \"W\", \"S\"]:\n",
    "    codes[(2, direction)] = i\n",
    "    i += 1\n",
    "\n",
    "codes[(\"2E\", \"1S\")] = 11\n",
    "codes[(\"2W\", \"1S\")] = 12"
   ]
  },
  {
   "cell_type": "code",
   "execution_count": 3,
   "id": "b3ea350e",
   "metadata": {},
   "outputs": [
    {
     "data": {
      "text/plain": [
       "{(1, 'N'): 0,\n",
       " (1, 'NE'): 1,\n",
       " (1, 'E'): 2,\n",
       " (1, 'SE'): 3,\n",
       " (1, 'S'): 4,\n",
       " (1, 'SW'): 5,\n",
       " (1, 'W'): 6,\n",
       " (1, 'NW'): 7,\n",
       " (2, 'E'): 8,\n",
       " (2, 'W'): 9,\n",
       " (2, 'S'): 10,\n",
       " ('2E', '1S'): 11,\n",
       " ('2W', '1S'): 12}"
      ]
     },
     "execution_count": 3,
     "metadata": {},
     "output_type": "execute_result"
    }
   ],
   "source": [
    "codes"
   ]
  },
  {
   "cell_type": "code",
   "execution_count": 4,
   "id": "5563c152",
   "metadata": {},
   "outputs": [],
   "source": [
    "policy = np.zeros((5, 5, 13))"
   ]
  },
  {
   "cell_type": "code",
   "execution_count": 5,
   "id": "a61febf2",
   "metadata": {},
   "outputs": [],
   "source": [
    "columns = {k:v for v,k in enumerate(\"abcde\")}"
   ]
  },
  {
   "cell_type": "code",
   "execution_count": 6,
   "id": "ff78e78c",
   "metadata": {},
   "outputs": [],
   "source": [
    "d2d3policy = np.zeros((5, 5, 13))\n",
    "d2d3policy[columns[\"d\"], 3-1, codes[(1, 'N')]] = 1"
   ]
  },
  {
   "cell_type": "code",
   "execution_count": 7,
   "id": "be136c55",
   "metadata": {},
   "outputs": [],
   "source": [
    "c2d3policy = np.zeros((5, 5, 13))\n",
    "c2d3policy[columns[\"d\"], 3-1, codes[(1, 'NE')]] = 1"
   ]
  },
  {
   "cell_type": "code",
   "execution_count": 8,
   "id": "f3d5176a",
   "metadata": {},
   "outputs": [],
   "source": [
    "# 50/50 chance for each move\n",
    "openingPolicy = (d2d3policy + c2d3policy) / 2"
   ]
  },
  {
   "cell_type": "markdown",
   "id": "a5f51a63",
   "metadata": {},
   "source": [
    "openingPolicy[2][3][8] mean that on the column C, on the line 3, the move was (2, 'E'). so the piece to move is in the column C and in the line 4"
   ]
  },
  {
   "cell_type": "markdown",
   "id": "f496aef5",
   "metadata": {},
   "source": [
    "# Functionnal NN"
   ]
  },
  {
   "cell_type": "code",
   "execution_count": 9,
   "id": "c783fc3f",
   "metadata": {},
   "outputs": [],
   "source": [
    "# needed to do a class in order to have multiple instances of the nnet ? "
   ]
  },
  {
   "cell_type": "code",
   "execution_count": 10,
   "id": "0f7f45de",
   "metadata": {},
   "outputs": [],
   "source": [
    "import tensorflow as tf\n",
    "from tensorflow.keras import layers\n",
    "from tensorflow.keras.models import Model"
   ]
  },
  {
   "cell_type": "code",
   "execution_count": 22,
   "id": "1453349e",
   "metadata": {},
   "outputs": [],
   "source": [
    "# input_block \n",
    "input_block = layers.Input(shape=(5, 5, 5))"
   ]
  },
  {
   "cell_type": "code",
   "execution_count": 23,
   "id": "8613ed04",
   "metadata": {},
   "outputs": [],
   "source": [
    "# convolutionnal_layer \n",
    "x = layers.Conv2D(filters=256, kernel_size=(3,3), padding=\"same\", activation=\"linear\")(input_block)\n",
    "x = layers.BatchNormalization()(x)\n",
    "x = layers.LeakyReLU()(x)"
   ]
  },
  {
   "cell_type": "code",
   "execution_count": 24,
   "id": "0ba4091e",
   "metadata": {},
   "outputs": [],
   "source": [
    "# 19 Residual blocks with a skip connection\n",
    "for _ in range(19):\n",
    "    y = layers.Conv2D(filters=256, kernel_size=(3,3), padding=\"same\", strides=1, activation=\"linear\")(x)\n",
    "    y = layers.BatchNormalization()(y)\n",
    "    y = layers.LeakyReLU()(y)\n",
    "    \n",
    "    y = layers.Conv2D(filters=256, kernel_size=(3,3), padding=\"same\", strides=1, activation=\"linear\")(y)\n",
    "    y = layers.BatchNormalization()(y)\n",
    "    y = layers.LeakyReLU()(y)\n",
    "    \n",
    "    x = layers.Add()([x, y])"
   ]
  },
  {
   "cell_type": "code",
   "execution_count": 25,
   "id": "7192582e",
   "metadata": {},
   "outputs": [],
   "source": [
    "# policy_head with a final convolution of 13 filters\n",
    "policy_head = layers.Conv2D(filters=256, kernel_size=(1, 1), padding=\"same\", activation=\"linear\")(x)\n",
    "policy_head = layers.BatchNormalization()(policy_head)\n",
    "policy_head = layers.LeakyReLU()(policy_head)\n",
    "policy_head = layers.Conv2D(filters=13, kernel_size=(1, 1), padding=\"same\", activation=\"linear\")(x)"
   ]
  },
  {
   "cell_type": "code",
   "execution_count": null,
   "id": "cdd1e945",
   "metadata": {},
   "outputs": [],
   "source": [
    "The value head applies an additional rectified, batch-normalized convolution of 1 filter of kernel size 1 ⇥ 1 with stride 1,\n",
    "followed by a rectified linear layer of size 256 and a tanh-linear layer of size 1."
   ]
  },
  {
   "cell_type": "code",
   "execution_count": 26,
   "id": "c72aecba",
   "metadata": {},
   "outputs": [],
   "source": [
    "# value_head\n",
    "value_head = layers.Conv2D(filters=1, kernel_size=(1,1), padding=\"same\", strides=1, activation=\"linear\")(x)\n",
    "value_head = layers.BatchNormalization()(value_head)\n",
    "value_head = layers.LeakyReLU()(value_head)\n",
    "value_head = layers.Flatten()(value_head)\n",
    "value_head = layers.Dense(256, activation=\"linear\")(value_head)\n",
    "value_head = layers.LeakyReLU()(value_head)\n",
    "value_head = layers.BatchNormalization()(value_head)\n",
    "value_head = layers.Dense(1, activation=\"tanh\", name=\"value_head\")(value_head)"
   ]
  },
  {
   "cell_type": "code",
   "execution_count": 27,
   "id": "7c50fce5",
   "metadata": {},
   "outputs": [],
   "source": [
    "model = Model(inputs=[input_block], outputs=[policy_head, value_head])\n",
    "model.compile(loss=['categorical_crossentropy','mean_squared_error'], optimizer=\"Adam\")"
   ]
  },
  {
   "cell_type": "code",
   "execution_count": 28,
   "id": "11a2f1fe",
   "metadata": {},
   "outputs": [],
   "source": [
    "# input size (1,5,5,5)"
   ]
  },
  {
   "cell_type": "code",
   "execution_count": 29,
   "id": "6e50a9a4",
   "metadata": {},
   "outputs": [
    {
     "data": {
      "text/plain": [
       "[array([[7.4443847e-08, 2.8526601e-09, 1.5705516e-10, 9.3892404e-06,\n",
       "         9.6059126e-01, 2.1774908e-13, 4.3645874e-04, 3.8961716e-02,\n",
       "         1.1754929e-13, 4.9246911e-08, 3.0024462e-14, 1.4869140e-14,\n",
       "         1.0087599e-06]], dtype=float32),\n",
       " array([[0.53387797]], dtype=float32)]"
      ]
     },
     "execution_count": 29,
     "metadata": {},
     "output_type": "execute_result"
    }
   ],
   "source": [
    "model.predict(np.ones((1,5,5,5)))"
   ]
  },
  {
   "cell_type": "code",
   "execution_count": null,
   "id": "c98f20c0",
   "metadata": {},
   "outputs": [],
   "source": []
  }
 ],
 "metadata": {
  "kernelspec": {
   "display_name": "Python 3",
   "language": "python",
   "name": "python3"
  },
  "language_info": {
   "codemirror_mode": {
    "name": "ipython",
    "version": 3
   },
   "file_extension": ".py",
   "mimetype": "text/x-python",
   "name": "python",
   "nbconvert_exporter": "python",
   "pygments_lexer": "ipython3",
   "version": "3.9.5"
  }
 },
 "nbformat": 4,
 "nbformat_minor": 5
}
