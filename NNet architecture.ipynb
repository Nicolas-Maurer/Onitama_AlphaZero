{
 "cells": [
  {
   "cell_type": "markdown",
   "id": "fe86238f",
   "metadata": {},
   "source": [
    "# Input size : 5 x 5 x 5\n",
    "- board size : 5 x 5 \n",
    "- P1 unique pieces : 2 \n",
    "- P2 unique pieces : 2\n",
    "- Colour"
   ]
  },
  {
   "cell_type": "markdown",
   "id": "8d89f242",
   "metadata": {},
   "source": [
    "# Output size 5 x 5 x 13\n",
    "- board size : 5 x 5 \n",
    "- 13 possibles moves, 1 for each directions in [\"N\", \"NE\", \"E\", \"SE\", \"S\", \"SW\", \"W\", \"NW\"], plus the dragon, crab and tiger differents moves"
   ]
  },
  {
   "cell_type": "markdown",
   "id": "fad78fbb",
   "metadata": {},
   "source": [
    "### Layer codes"
   ]
  },
  {
   "cell_type": "code",
   "execution_count": 25,
   "id": "6f4bf050",
   "metadata": {},
   "outputs": [],
   "source": [
    "codes, i = {}, 0 \n",
    "for nSquares in range(1,2):\n",
    "    for direction in [\"N\", \"NE\", \"E\", \"SE\", \"S\", \"SW\", \"W\", \"NW\"]:\n",
    "        codes[(nSquares, direction)] = i\n",
    "        i += 1\n",
    "        \n",
    "for direction in [\"E\", \"W\", \"S\"]:\n",
    "    codes[(2, direction)] = i\n",
    "    i += 1\n",
    "    \n",
    "# codes[(2, \"E\")] = 8\n",
    "# codes[(2, \"W\")] = 9\n",
    "# codes[(2, \"S\")] = 10\n",
    "codes[(\"2E\", \"1S\")] = 11\n",
    "codes[(\"2W\", \"1S\")] = 12"
   ]
  },
  {
   "cell_type": "code",
   "execution_count": 26,
   "id": "b3ea350e",
   "metadata": {},
   "outputs": [
    {
     "data": {
      "text/plain": [
       "{(1, 'N'): 0,\n",
       " (1, 'NE'): 1,\n",
       " (1, 'E'): 2,\n",
       " (1, 'SE'): 3,\n",
       " (1, 'S'): 4,\n",
       " (1, 'SW'): 5,\n",
       " (1, 'W'): 6,\n",
       " (1, 'NW'): 7,\n",
       " (2, 'E'): 8,\n",
       " (2, 'W'): 9,\n",
       " (2, 'S'): 10,\n",
       " ('tiger', '2E', '1S'): 11,\n",
       " ('tiger', '2W', '1S'): 12}"
      ]
     },
     "execution_count": 26,
     "metadata": {},
     "output_type": "execute_result"
    }
   ],
   "source": [
    "codes"
   ]
  },
  {
   "cell_type": "code",
   "execution_count": 3,
   "id": "cb44d51a",
   "metadata": {},
   "outputs": [],
   "source": [
    "class NNet():\n",
    "    \n",
    "    def __init__(self):\n",
    "        pass"
   ]
  }
 ],
 "metadata": {
  "kernelspec": {
   "display_name": "Python 3",
   "language": "python",
   "name": "python3"
  },
  "language_info": {
   "codemirror_mode": {
    "name": "ipython",
    "version": 3
   },
   "file_extension": ".py",
   "mimetype": "text/x-python",
   "name": "python",
   "nbconvert_exporter": "python",
   "pygments_lexer": "ipython3",
   "version": "3.9.5"
  }
 },
 "nbformat": 4,
 "nbformat_minor": 5
}
