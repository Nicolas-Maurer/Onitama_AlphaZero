{
 "cells": [
  {
   "cell_type": "code",
   "execution_count": null,
   "id": "e5c182b9",
   "metadata": {},
   "outputs": [],
   "source": [
    "%run MCTS.ipynb\n",
    "%run NNet_architecture.ipynb\n",
    "%run Deck.ipynb\n",
    "%run Board.ipynb\n",
    "import time\n",
    "from tensorflow.keras.models import load_model"
   ]
  },
  {
   "cell_type": "code",
   "execution_count": null,
   "id": "d9426e44",
   "metadata": {},
   "outputs": [],
   "source": [
    "# model = create_model()\n",
    "model = load_model(\"models/latest.h5\")"
   ]
  },
  {
   "cell_type": "markdown",
   "id": "c241c79a",
   "metadata": {},
   "source": [
    "### Training"
   ]
  },
  {
   "cell_type": "code",
   "execution_count": null,
   "id": "3b2c559f",
   "metadata": {},
   "outputs": [],
   "source": [
    "new_board = Board(deck)\n",
    "root = MonteCarloTreeSearchNode(model, new_board, prior=0)"
   ]
  },
  {
   "cell_type": "code",
   "execution_count": null,
   "id": "c98150ed",
   "metadata": {},
   "outputs": [],
   "source": [
    "nb_simulations = 200\n",
    "nb_games = 10\n",
    "max_move_per_game = np.inf"
   ]
  },
  {
   "cell_type": "code",
   "execution_count": null,
   "id": "535634c7",
   "metadata": {
    "scrolled": true
   },
   "outputs": [],
   "source": [
    "node = root\n",
    "games = [MonteCarloTreeSearchNode(model, Board(deck), prior=0) for i in range(nb_games)]\n",
    "game = 0\n",
    "i = 0\n",
    "board_states = []\n",
    "values = []\n",
    "policies = []\n",
    "\n",
    "while game < nb_games:\n",
    "    node = games[game]\n",
    "    i = 0\n",
    "    while not node.board.is_game_over() and i < max_move_per_game:\n",
    "        node.simulate(nb_simulations)\n",
    "        \n",
    "        l = [(ind, node._number_of_visits) for ind, node in node.children.items()]\n",
    "        ind, action = max(l, key = lambda x:x[1])\n",
    "        \n",
    "        policy = np.zeros(5 * 5 * 52)\n",
    "        total_visits = sum([b._number_of_visits for b in node.children.values()])\n",
    "        for a, b in node.children.items():\n",
    "            policy[a] = b._number_of_visits/total_visits\n",
    "        \n",
    "        policies.append(policy)\n",
    "        board_states.append(node.board.board_state)\n",
    "        values.append(node.mean_value()[0][0])\n",
    "        \n",
    "        # nodes.append(node)\n",
    "        node = node.children[ind]\n",
    "        \n",
    "        plt.imshow(node.board.board_2D)\n",
    "        plt.show()\n",
    "        i += 1\n",
    "        print(\"-----------\", i)\n",
    "    game +=1\n",
    "    print(\"---------------------------------\", game, \"---------------------------------\")"
   ]
  },
  {
   "cell_type": "code",
   "execution_count": null,
   "id": "4614bc86",
   "metadata": {},
   "outputs": [],
   "source": [
    "board_states_2 = np.zeros((len(board_states), 5, 5, 10))\n",
    "policies_2 = np.zeros((len(policies), 5, 5, 52))"
   ]
  },
  {
   "cell_type": "code",
   "execution_count": null,
   "id": "8f195b33",
   "metadata": {},
   "outputs": [],
   "source": [
    "for i, board in enumerate(board_states):\n",
    "    \n",
    "    board_states_2[i] = board\n",
    "    policies_2[i] = policies[i].reshape((5, 5, 52))"
   ]
  },
  {
   "cell_type": "code",
   "execution_count": null,
   "id": "80977aee",
   "metadata": {
    "scrolled": true
   },
   "outputs": [],
   "source": [
    "board_states_2.shape"
   ]
  },
  {
   "cell_type": "markdown",
   "id": "ce55195f",
   "metadata": {},
   "source": [
    "# Fit games"
   ]
  },
  {
   "cell_type": "code",
   "execution_count": null,
   "id": "4dbe5592",
   "metadata": {},
   "outputs": [],
   "source": [
    "model.fit(board_states_2, [policies_2, np.array(values)], epochs=15)"
   ]
  },
  {
   "cell_type": "code",
   "execution_count": null,
   "id": "172fd6ee",
   "metadata": {
    "scrolled": false
   },
   "outputs": [],
   "source": [
    "model.save(\"models/latest.h5\")"
   ]
  },
  {
   "cell_type": "code",
   "execution_count": null,
   "id": "fbd61518",
   "metadata": {},
   "outputs": [],
   "source": [
    "import pandas as pd\n",
    "pd.DataFrame(model.history.history).plot()"
   ]
  },
  {
   "cell_type": "code",
   "execution_count": null,
   "id": "d49d5eab",
   "metadata": {},
   "outputs": [],
   "source": []
  }
 ],
 "metadata": {
  "kernelspec": {
   "display_name": "Python 3",
   "language": "python",
   "name": "python3"
  },
  "language_info": {
   "codemirror_mode": {
    "name": "ipython",
    "version": 3
   },
   "file_extension": ".py",
   "mimetype": "text/x-python",
   "name": "python",
   "nbconvert_exporter": "python",
   "pygments_lexer": "ipython3",
   "version": "3.9.5"
  }
 },
 "nbformat": 4,
 "nbformat_minor": 5
}
