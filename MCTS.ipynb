{
 "cells": [
  {
   "cell_type": "markdown",
   "id": "9dd6753f",
   "metadata": {},
   "source": [
    "https://joshvarty.github.io/AlphaZero/"
   ]
  },
  {
   "cell_type": "code",
   "execution_count": 1,
   "id": "7b279938",
   "metadata": {},
   "outputs": [],
   "source": [
    "# %run Board.ipynb\n",
    "# %run deck.ipynb\n",
    "# %run NNet_architecture.ipynb"
   ]
  },
  {
   "cell_type": "code",
   "execution_count": 2,
   "id": "2ab0c6f0",
   "metadata": {},
   "outputs": [],
   "source": [
    "import numpy as np\n",
    "from collections import defaultdict"
   ]
  },
  {
   "cell_type": "code",
   "execution_count": 2,
   "id": "7da07151",
   "metadata": {},
   "outputs": [],
   "source": [
    "class MonteCarloTreeSearchNode():\n",
    "    \n",
    "    def __init__(self, model, board, prior, parent=None):\n",
    "        self.model = model\n",
    "        self.board = board\n",
    "        self.prior = prior\n",
    "        self.parent = parent\n",
    "              \n",
    "        self.children = {}\n",
    "        self._number_of_visits = 0\n",
    "        self.value_sum = 0\n",
    "\n",
    "        self._results = defaultdict(int)\n",
    "        self._results[0] = 0\n",
    "        self._results[1] = 0\n",
    "        self._results[-1] = 0\n",
    "\n",
    "            \n",
    "    def expand(self, possible_policy):\n",
    "        \"\"\" Expand the node with all children with a positive probability, the policy is obtained by the nn\"\"\"\n",
    "                \n",
    "        for i, proba in enumerate(possible_policy):\n",
    "            if proba != 0:\n",
    "                \n",
    "                next_board = self.board.move(i) \n",
    "                self.children[i] = MonteCarloTreeSearchNode(model=model, board=next_board, prior=proba, parent=self)\n",
    "                \n",
    "\n",
    "    def simulate(self, nb_simulation):\n",
    "        \"\"\" Simulate i path\"\"\"\n",
    "                   \n",
    "        for _ in range(nb_simulation):\n",
    "            if _%50 == 0:\n",
    "                print(_)\n",
    "                   \n",
    "            node_to_expand = self\n",
    "                                   \n",
    "            search_path = [node_to_expand]\n",
    "            \n",
    "            # select the node\n",
    "            while node_to_expand.children:  \n",
    "                node_to_expand = node_to_expand.best_child()\n",
    "                search_path.append(node_to_expand)\n",
    "            \n",
    "            value = node_to_expand.board.get_reward_for_player() \n",
    "\n",
    "            if value is None:\n",
    "                # if the game has not ended we expand \n",
    "\n",
    "                policy, value = node_to_expand.model.predict(node_to_expand.board.board_state.reshape((1, 5, 5, 10)))\n",
    "                possible_policy = node_to_expand.board.get_legal_moves(policy[0]).flatten()\n",
    "                \n",
    "                node_to_expand.expand(possible_policy)\n",
    "            \n",
    "            self.backpropagate(search_path, value, node_to_expand.board.player)\n",
    "                \n",
    "        return self\n",
    "    \n",
    "\n",
    "\n",
    "    def backpropagate(self, search_path, value, to_play):\n",
    "        \"\"\"\n",
    "        At the end of a simulation, we propagate the evaluation all the way up the tree\n",
    "        to the root.\n",
    "        \"\"\"\n",
    "        for node in reversed(search_path):\n",
    "            node.value_sum += value if node.board.player == to_play else -value\n",
    "    \n",
    "            node._number_of_visits += 1\n",
    "\n",
    "\n",
    "    def best_child(self, c_param=0.8):\n",
    "        \"\"\"return child that maximize UCB\"\"\"\n",
    "\n",
    "        # C_param is the exploration rate it's supposed to grow slowly with search time\n",
    "        # Mean action_value + C_param * Prior * sqrt(parent visit count) / (1 + visit count)\n",
    "        # The value of the child is from the perspective of the opposing player\n",
    "\n",
    "        best_score = -np.inf\n",
    "        best_action = None\n",
    "                \n",
    "        for action, child in self.children.items():\n",
    "            score = -child.mean_value() + c_param * child.prior * np.sqrt(child.parent._number_of_visits) / (child._number_of_visits + 1)\n",
    "\n",
    "            if score > best_score:\n",
    "                best_score = score\n",
    "                best_action = action\n",
    "                \n",
    "        return self.children[best_action]\n",
    "    \n",
    "    \n",
    "    def mean_value(self):\n",
    "        if self._number_of_visits == 0:\n",
    "            return 0\n",
    "        return self.value_sum / self._number_of_visits\n",
    "\n",
    "\n",
    "    def __repr__(self):\n",
    "        \"\"\"\n",
    "        Debugger pretty print node info\n",
    "        \"\"\"\n",
    "        prior = \"{0:.2f}\".format(self.prior)\n",
    "        return \"{} Prior: {} Count: {} Value: {}\".format(self.board.__str__(), prior, self._number_of_visits, self.mean_value())"
   ]
  }
 ],
 "metadata": {
  "hide_input": false,
  "kernelspec": {
   "display_name": "Python 3",
   "language": "python",
   "name": "python3"
  },
  "language_info": {
   "codemirror_mode": {
    "name": "ipython",
    "version": 3
   },
   "file_extension": ".py",
   "mimetype": "text/x-python",
   "name": "python",
   "nbconvert_exporter": "python",
   "pygments_lexer": "ipython3",
   "version": "3.9.5"
  },
  "varInspector": {
   "cols": {
    "lenName": 16,
    "lenType": 16,
    "lenVar": 40
   },
   "kernels_config": {
    "python": {
     "delete_cmd_postfix": "",
     "delete_cmd_prefix": "del ",
     "library": "var_list.py",
     "varRefreshCmd": "print(var_dic_list())"
    },
    "r": {
     "delete_cmd_postfix": ") ",
     "delete_cmd_prefix": "rm(",
     "library": "var_list.r",
     "varRefreshCmd": "cat(var_dic_list()) "
    }
   },
   "types_to_exclude": [
    "module",
    "function",
    "builtin_function_or_method",
    "instance",
    "_Feature"
   ],
   "window_display": false
  }
 },
 "nbformat": 4,
 "nbformat_minor": 5
}
